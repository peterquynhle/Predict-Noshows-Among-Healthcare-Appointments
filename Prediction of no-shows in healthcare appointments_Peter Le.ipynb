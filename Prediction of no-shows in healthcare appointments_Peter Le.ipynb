{
 "cells": [
  {
   "cell_type": "markdown",
   "metadata": {},
   "source": [
    "# This project is to review and update codes in predicting medical appointment no shows originally from Kaggle"
   ]
  },
  {
   "cell_type": "markdown",
   "metadata": {},
   "source": [
    "# Business problems/questions and objective(s) of in buiding an ML model:\n",
    "- E.g.,:\n",
    "        - High no-show rate among medical/healthcare appointment;\n",
    "        - Which factors are associated with no-show in medical/healthcare appointments?\n",
    "        - How to to predict no-show appointments? "
   ]
  },
  {
   "cell_type": "markdown",
   "metadata": {},
   "source": [
    "# Content\n",
    "1. Import the data,\n",
    "2. Explore and prepocess the data,\n",
    "3. Select and create features (feature engineering), and\n",
    "4. Build and evaluate the model - Logistic Regression\n",
    "5. Conclude"
   ]
  },
  {
   "cell_type": "markdown",
   "metadata": {
    "_cell_guid": "68461d9a-2929-4d37-add3-427a1c6dba71",
    "_uuid": "89bbcbe42fcfbd1be02eccebe3b21b7f63a89710"
   },
   "source": [
    "## 1. Import the Data"
   ]
  },
  {
   "cell_type": "code",
   "execution_count": 36,
   "metadata": {
    "_cell_guid": "3d5a8771-221d-43c2-b0f1-50e68403107b",
    "_uuid": "356551eff3620aa42cc51291efd9801c0365b7d7"
   },
   "outputs": [],
   "source": [
    "import pandas as pd\n",
    "import numpy as np\n",
    "df = pd.read_csv(\"P:/Learning/Big Data and Machine Learning Resources/Predictive Analytics/Predicting No-shows at medical appointments_Kaggle/KaggleV2-May-2016.csv\")\n"
   ]
  },
  {
   "cell_type": "markdown",
   "metadata": {
    "_cell_guid": "68266b50-687f-4f12-b475-9b0c97a7799c",
    "_uuid": "b4ec439b9adce5923d9ea304e0368d3a0eb89685"
   },
   "source": [
    "## 2. Explore and prepocess the data"
   ]
  },
  {
   "cell_type": "code",
   "execution_count": 37,
   "metadata": {
    "_cell_guid": "e5b0d6ec-623a-48f5-b0b3-c71abe04a7d8",
    "_uuid": "1160812ff5c7aa273d48b9780521a287cf5b36b4"
   },
   "outputs": [
    {
     "data": {
      "text/html": [
       "<div>\n",
       "<style scoped>\n",
       "    .dataframe tbody tr th:only-of-type {\n",
       "        vertical-align: middle;\n",
       "    }\n",
       "\n",
       "    .dataframe tbody tr th {\n",
       "        vertical-align: top;\n",
       "    }\n",
       "\n",
       "    .dataframe thead th {\n",
       "        text-align: right;\n",
       "    }\n",
       "</style>\n",
       "<table border=\"1\" class=\"dataframe\">\n",
       "  <thead>\n",
       "    <tr style=\"text-align: right;\">\n",
       "      <th></th>\n",
       "      <th>PatientId</th>\n",
       "      <th>AppointmentID</th>\n",
       "      <th>Age</th>\n",
       "      <th>Scholarship</th>\n",
       "      <th>Hipertension</th>\n",
       "      <th>Diabetes</th>\n",
       "      <th>Alcoholism</th>\n",
       "      <th>Handcap</th>\n",
       "      <th>SMS_received</th>\n",
       "    </tr>\n",
       "  </thead>\n",
       "  <tbody>\n",
       "    <tr>\n",
       "      <th>count</th>\n",
       "      <td>1.105270e+05</td>\n",
       "      <td>1.105270e+05</td>\n",
       "      <td>110527.000000</td>\n",
       "      <td>110527.000000</td>\n",
       "      <td>110527.000000</td>\n",
       "      <td>110527.000000</td>\n",
       "      <td>110527.000000</td>\n",
       "      <td>110527.000000</td>\n",
       "      <td>110527.000000</td>\n",
       "    </tr>\n",
       "    <tr>\n",
       "      <th>mean</th>\n",
       "      <td>1.474963e+14</td>\n",
       "      <td>5.675305e+06</td>\n",
       "      <td>37.088874</td>\n",
       "      <td>0.098266</td>\n",
       "      <td>0.197246</td>\n",
       "      <td>0.071865</td>\n",
       "      <td>0.030400</td>\n",
       "      <td>0.022248</td>\n",
       "      <td>0.321026</td>\n",
       "    </tr>\n",
       "    <tr>\n",
       "      <th>std</th>\n",
       "      <td>2.560949e+14</td>\n",
       "      <td>7.129575e+04</td>\n",
       "      <td>23.110205</td>\n",
       "      <td>0.297675</td>\n",
       "      <td>0.397921</td>\n",
       "      <td>0.258265</td>\n",
       "      <td>0.171686</td>\n",
       "      <td>0.161543</td>\n",
       "      <td>0.466873</td>\n",
       "    </tr>\n",
       "    <tr>\n",
       "      <th>min</th>\n",
       "      <td>3.921784e+04</td>\n",
       "      <td>5.030230e+06</td>\n",
       "      <td>-1.000000</td>\n",
       "      <td>0.000000</td>\n",
       "      <td>0.000000</td>\n",
       "      <td>0.000000</td>\n",
       "      <td>0.000000</td>\n",
       "      <td>0.000000</td>\n",
       "      <td>0.000000</td>\n",
       "    </tr>\n",
       "    <tr>\n",
       "      <th>25%</th>\n",
       "      <td>4.172614e+12</td>\n",
       "      <td>5.640286e+06</td>\n",
       "      <td>18.000000</td>\n",
       "      <td>0.000000</td>\n",
       "      <td>0.000000</td>\n",
       "      <td>0.000000</td>\n",
       "      <td>0.000000</td>\n",
       "      <td>0.000000</td>\n",
       "      <td>0.000000</td>\n",
       "    </tr>\n",
       "    <tr>\n",
       "      <th>50%</th>\n",
       "      <td>3.173184e+13</td>\n",
       "      <td>5.680573e+06</td>\n",
       "      <td>37.000000</td>\n",
       "      <td>0.000000</td>\n",
       "      <td>0.000000</td>\n",
       "      <td>0.000000</td>\n",
       "      <td>0.000000</td>\n",
       "      <td>0.000000</td>\n",
       "      <td>0.000000</td>\n",
       "    </tr>\n",
       "    <tr>\n",
       "      <th>75%</th>\n",
       "      <td>9.439172e+13</td>\n",
       "      <td>5.725524e+06</td>\n",
       "      <td>55.000000</td>\n",
       "      <td>0.000000</td>\n",
       "      <td>0.000000</td>\n",
       "      <td>0.000000</td>\n",
       "      <td>0.000000</td>\n",
       "      <td>0.000000</td>\n",
       "      <td>1.000000</td>\n",
       "    </tr>\n",
       "    <tr>\n",
       "      <th>max</th>\n",
       "      <td>9.999816e+14</td>\n",
       "      <td>5.790484e+06</td>\n",
       "      <td>115.000000</td>\n",
       "      <td>1.000000</td>\n",
       "      <td>1.000000</td>\n",
       "      <td>1.000000</td>\n",
       "      <td>1.000000</td>\n",
       "      <td>4.000000</td>\n",
       "      <td>1.000000</td>\n",
       "    </tr>\n",
       "  </tbody>\n",
       "</table>\n",
       "</div>"
      ],
      "text/plain": [
       "          PatientId  AppointmentID            Age    Scholarship  \\\n",
       "count  1.105270e+05   1.105270e+05  110527.000000  110527.000000   \n",
       "mean   1.474963e+14   5.675305e+06      37.088874       0.098266   \n",
       "std    2.560949e+14   7.129575e+04      23.110205       0.297675   \n",
       "min    3.921784e+04   5.030230e+06      -1.000000       0.000000   \n",
       "25%    4.172614e+12   5.640286e+06      18.000000       0.000000   \n",
       "50%    3.173184e+13   5.680573e+06      37.000000       0.000000   \n",
       "75%    9.439172e+13   5.725524e+06      55.000000       0.000000   \n",
       "max    9.999816e+14   5.790484e+06     115.000000       1.000000   \n",
       "\n",
       "        Hipertension       Diabetes     Alcoholism        Handcap  \\\n",
       "count  110527.000000  110527.000000  110527.000000  110527.000000   \n",
       "mean        0.197246       0.071865       0.030400       0.022248   \n",
       "std         0.397921       0.258265       0.171686       0.161543   \n",
       "min         0.000000       0.000000       0.000000       0.000000   \n",
       "25%         0.000000       0.000000       0.000000       0.000000   \n",
       "50%         0.000000       0.000000       0.000000       0.000000   \n",
       "75%         0.000000       0.000000       0.000000       0.000000   \n",
       "max         1.000000       1.000000       1.000000       4.000000   \n",
       "\n",
       "        SMS_received  \n",
       "count  110527.000000  \n",
       "mean        0.321026  \n",
       "std         0.466873  \n",
       "min         0.000000  \n",
       "25%         0.000000  \n",
       "50%         0.000000  \n",
       "75%         1.000000  \n",
       "max         1.000000  "
      ]
     },
     "execution_count": 37,
     "metadata": {},
     "output_type": "execute_result"
    }
   ],
   "source": [
    "df.describe()"
   ]
  },
  {
   "cell_type": "code",
   "execution_count": 38,
   "metadata": {
    "_cell_guid": "6267f7c1-da0a-413a-9b9b-3349319d7903",
    "_uuid": "e6bd92a49bde29afb80f18098a0f9012a196858d"
   },
   "outputs": [
    {
     "data": {
      "text/plain": [
       "(110527, 14)"
      ]
     },
     "execution_count": 38,
     "metadata": {},
     "output_type": "execute_result"
    }
   ],
   "source": [
    "# Number of Rows and Columns\n",
    "df.shape"
   ]
  },
  {
   "cell_type": "markdown",
   "metadata": {
    "_cell_guid": "8a05a21e-61e5-4bf6-a998-afc041beefaf",
    "_uuid": "0081bc2f4bd2c306507e2f6766edfd9429c575ff"
   },
   "source": [
    "The original dataset has 110,527 records and 14 features (input variables)"
   ]
  },
  {
   "cell_type": "code",
   "execution_count": 39,
   "metadata": {
    "_cell_guid": "e3543b05-af34-4f7b-b30a-ac3ae3eb05e4",
    "_uuid": "4fe9d89988714b3940d13536e3eb99c9be074870",
    "scrolled": true
   },
   "outputs": [
    {
     "data": {
      "text/plain": [
       "Index(['PatientId', 'AppointmentID', 'Gender', 'ScheduledDay',\n",
       "       'AppointmentDay', 'Age', 'Neighbourhood', 'Scholarship', 'Hipertension',\n",
       "       'Diabetes', 'Alcoholism', 'Handcap', 'SMS_received', 'No-show'],\n",
       "      dtype='object')"
      ]
     },
     "execution_count": 39,
     "metadata": {},
     "output_type": "execute_result"
    }
   ],
   "source": [
    "# Column Names\n",
    "df.columns"
   ]
  },
  {
   "cell_type": "code",
   "execution_count": 40,
   "metadata": {
    "_cell_guid": "8275a15e-93ef-4a74-8be4-8f6f2b8e9e84",
    "_uuid": "482a5b0a8de282cd0b93474c4eb111ccb6028015",
    "scrolled": true
   },
   "outputs": [
    {
     "name": "stdout",
     "output_type": "stream",
     "text": [
      "No     88208\n",
      "Yes    22319\n",
      "Name: No-show, dtype: int64\n",
      "Percent who didn't show up to their appointment: 20.193255946510806\n"
     ]
    }
   ],
   "source": [
    "# Target Variable\n",
    "no_show = df[\"No-show\"].value_counts()\n",
    "print(no_show)\n",
    "\n",
    "Percent_no_show = no_show[\"Yes\"]/ no_show.sum() * 100\n",
    "print(\"Percent who didn't show up to their appointment:\",Percent_no_show )"
   ]
  },
  {
   "cell_type": "code",
   "execution_count": 41,
   "metadata": {
    "_cell_guid": "aac8b356-2bc9-4773-97b9-31612b47f2c2",
    "_uuid": "71706cb81451a64c7a1252b2417ab0ca1e207935"
   },
   "outputs": [],
   "source": [
    "# Recode Target Variable: 0 =  Did not show up to appointment and 1 =  Showed up to appointment\n",
    "df['No-show'].replace(\"No\", 0,inplace=True)\n",
    "df['No-show'].replace(\"Yes\", 1,inplace=True)"
   ]
  },
  {
   "cell_type": "code",
   "execution_count": 42,
   "metadata": {
    "_cell_guid": "301730d8-5bde-4cee-847a-4faddc2a2289",
    "_uuid": "acf65d5b2ef8a65ffaf5d760b367c0464bc3ce0e",
    "scrolled": true
   },
   "outputs": [
    {
     "data": {
      "text/plain": [
       "F    71840\n",
       "M    38687\n",
       "Name: Gender, dtype: int64"
      ]
     },
     "execution_count": 42,
     "metadata": {},
     "output_type": "execute_result"
    }
   ],
   "source": [
    "# Count of Male vs Female\n",
    "df[\"Gender\"].value_counts()"
   ]
  },
  {
   "cell_type": "code",
   "execution_count": 43,
   "metadata": {
    "_cell_guid": "3b3e407a-4136-4b7d-b13c-3ea58bb44c26",
    "_uuid": "24abf25501f7acdee0e953e2cdcd1d518333b2e2"
   },
   "outputs": [
    {
     "name": "stdout",
     "output_type": "stream",
     "text": [
      "Gender\n",
      "F    0.203146\n",
      "M    0.199679\n",
      "Name: No-show, dtype: float64\n",
      "Hipertension\n",
      "0    0.209037\n",
      "1    0.173020\n",
      "Name: No-show, dtype: float64\n",
      "Alcoholism\n",
      "0    0.201946\n",
      "1    0.201488\n",
      "Name: No-show, dtype: float64\n",
      "Diabetes\n",
      "0    0.203628\n",
      "1    0.180033\n",
      "Name: No-show, dtype: float64\n"
     ]
    }
   ],
   "source": [
    "# Check how each feature relates to the target variable\n",
    "Exploratory_Analysis = ['Gender','Hipertension','Alcoholism','Diabetes']\n",
    "for r in Exploratory_Analysis :\n",
    "    print(df.groupby(r)['No-show'].mean())\n",
    "#df.groupby('Hipertension')['No-show'].mean()"
   ]
  },
  {
   "cell_type": "markdown",
   "metadata": {
    "_cell_guid": "a62fe849-31e3-4647-aca4-5390bd1fa5f4",
    "_uuid": "1eed1928ae6eebc99d63c3b8cbbb087a2b832893"
   },
   "source": [
    "As shown above, gender does not seem to affect whether a person shows up to an appointment or not, as both males and females don't show up to approximately 20 percent of their appointments. Diabetes and Alcoholism don't seem to affect no-shows as well.\n",
    "\n",
    "Hypertension seems to have a small affect, as a patient who has hypertension is 3% more likely to show up than a patient who doesn't have hyper tension."
   ]
  },
  {
   "cell_type": "code",
   "execution_count": 44,
   "metadata": {},
   "outputs": [
    {
     "data": {
      "text/plain": [
       "0    108286\n",
       "1      2042\n",
       "2       183\n",
       "3        13\n",
       "4         3\n",
       "Name: Handcap, dtype: int64"
      ]
     },
     "execution_count": 44,
     "metadata": {},
     "output_type": "execute_result"
    }
   ],
   "source": [
    "# Check the Handcap column\n",
    "df['Handcap'].value_counts()"
   ]
  },
  {
   "cell_type": "markdown",
   "metadata": {
    "_cell_guid": "d002a69d-39bb-4372-b677-2b3aa116e916",
    "_uuid": "337e745a12d614c3c40f9ba264451a69764af267"
   },
   "source": [
    "The feature \"handicap\" has 4 (5!) categories (explanation was not provided on what each category stands for), convert it to a categorical variable and create dummy variables to prepare it for modeling."
   ]
  },
  {
   "cell_type": "code",
   "execution_count": 45,
   "metadata": {
    "_cell_guid": "f550716b-d42b-46cf-8055-5e59bab9ca6b",
    "_uuid": "206d803c750207a29dd0ba9b3a8122c0c5c8159a"
   },
   "outputs": [],
   "source": [
    "# Convert'Handcap' to categorical\n",
    "df['Handcap'] = pd.Categorical(df['Handcap'])\n",
    "\n",
    "# Create to Dummy Variables\n",
    "Handicap = pd.get_dummies(df['Handcap'], prefix = 'Handicap')\n",
    "df = pd.concat([df, Handicap], axis=1)\n"
   ]
  },
  {
   "cell_type": "code",
   "execution_count": 46,
   "metadata": {},
   "outputs": [
    {
     "data": {
      "text/html": [
       "<div>\n",
       "<style scoped>\n",
       "    .dataframe tbody tr th:only-of-type {\n",
       "        vertical-align: middle;\n",
       "    }\n",
       "\n",
       "    .dataframe tbody tr th {\n",
       "        vertical-align: top;\n",
       "    }\n",
       "\n",
       "    .dataframe thead th {\n",
       "        text-align: right;\n",
       "    }\n",
       "</style>\n",
       "<table border=\"1\" class=\"dataframe\">\n",
       "  <thead>\n",
       "    <tr style=\"text-align: right;\">\n",
       "      <th></th>\n",
       "      <th>PatientId</th>\n",
       "      <th>AppointmentID</th>\n",
       "      <th>Age</th>\n",
       "      <th>Scholarship</th>\n",
       "      <th>Hipertension</th>\n",
       "      <th>Diabetes</th>\n",
       "      <th>Alcoholism</th>\n",
       "      <th>SMS_received</th>\n",
       "      <th>No-show</th>\n",
       "      <th>Handicap_0</th>\n",
       "      <th>Handicap_1</th>\n",
       "      <th>Handicap_2</th>\n",
       "      <th>Handicap_3</th>\n",
       "      <th>Handicap_4</th>\n",
       "    </tr>\n",
       "  </thead>\n",
       "  <tbody>\n",
       "    <tr>\n",
       "      <th>count</th>\n",
       "      <td>1.105270e+05</td>\n",
       "      <td>1.105270e+05</td>\n",
       "      <td>110527.000000</td>\n",
       "      <td>110527.000000</td>\n",
       "      <td>110527.000000</td>\n",
       "      <td>110527.000000</td>\n",
       "      <td>110527.000000</td>\n",
       "      <td>110527.000000</td>\n",
       "      <td>110527.000000</td>\n",
       "      <td>110527.000000</td>\n",
       "      <td>110527.000000</td>\n",
       "      <td>110527.000000</td>\n",
       "      <td>110527.000000</td>\n",
       "      <td>110527.000000</td>\n",
       "    </tr>\n",
       "    <tr>\n",
       "      <th>mean</th>\n",
       "      <td>1.474963e+14</td>\n",
       "      <td>5.675305e+06</td>\n",
       "      <td>37.088874</td>\n",
       "      <td>0.098266</td>\n",
       "      <td>0.197246</td>\n",
       "      <td>0.071865</td>\n",
       "      <td>0.030400</td>\n",
       "      <td>0.321026</td>\n",
       "      <td>0.201933</td>\n",
       "      <td>0.979724</td>\n",
       "      <td>0.018475</td>\n",
       "      <td>0.001656</td>\n",
       "      <td>0.000118</td>\n",
       "      <td>0.000027</td>\n",
       "    </tr>\n",
       "    <tr>\n",
       "      <th>std</th>\n",
       "      <td>2.560949e+14</td>\n",
       "      <td>7.129575e+04</td>\n",
       "      <td>23.110205</td>\n",
       "      <td>0.297675</td>\n",
       "      <td>0.397921</td>\n",
       "      <td>0.258265</td>\n",
       "      <td>0.171686</td>\n",
       "      <td>0.466873</td>\n",
       "      <td>0.401444</td>\n",
       "      <td>0.140942</td>\n",
       "      <td>0.134662</td>\n",
       "      <td>0.040657</td>\n",
       "      <td>0.010845</td>\n",
       "      <td>0.005210</td>\n",
       "    </tr>\n",
       "    <tr>\n",
       "      <th>min</th>\n",
       "      <td>3.921784e+04</td>\n",
       "      <td>5.030230e+06</td>\n",
       "      <td>-1.000000</td>\n",
       "      <td>0.000000</td>\n",
       "      <td>0.000000</td>\n",
       "      <td>0.000000</td>\n",
       "      <td>0.000000</td>\n",
       "      <td>0.000000</td>\n",
       "      <td>0.000000</td>\n",
       "      <td>0.000000</td>\n",
       "      <td>0.000000</td>\n",
       "      <td>0.000000</td>\n",
       "      <td>0.000000</td>\n",
       "      <td>0.000000</td>\n",
       "    </tr>\n",
       "    <tr>\n",
       "      <th>25%</th>\n",
       "      <td>4.172614e+12</td>\n",
       "      <td>5.640286e+06</td>\n",
       "      <td>18.000000</td>\n",
       "      <td>0.000000</td>\n",
       "      <td>0.000000</td>\n",
       "      <td>0.000000</td>\n",
       "      <td>0.000000</td>\n",
       "      <td>0.000000</td>\n",
       "      <td>0.000000</td>\n",
       "      <td>1.000000</td>\n",
       "      <td>0.000000</td>\n",
       "      <td>0.000000</td>\n",
       "      <td>0.000000</td>\n",
       "      <td>0.000000</td>\n",
       "    </tr>\n",
       "    <tr>\n",
       "      <th>50%</th>\n",
       "      <td>3.173184e+13</td>\n",
       "      <td>5.680573e+06</td>\n",
       "      <td>37.000000</td>\n",
       "      <td>0.000000</td>\n",
       "      <td>0.000000</td>\n",
       "      <td>0.000000</td>\n",
       "      <td>0.000000</td>\n",
       "      <td>0.000000</td>\n",
       "      <td>0.000000</td>\n",
       "      <td>1.000000</td>\n",
       "      <td>0.000000</td>\n",
       "      <td>0.000000</td>\n",
       "      <td>0.000000</td>\n",
       "      <td>0.000000</td>\n",
       "    </tr>\n",
       "    <tr>\n",
       "      <th>75%</th>\n",
       "      <td>9.439172e+13</td>\n",
       "      <td>5.725524e+06</td>\n",
       "      <td>55.000000</td>\n",
       "      <td>0.000000</td>\n",
       "      <td>0.000000</td>\n",
       "      <td>0.000000</td>\n",
       "      <td>0.000000</td>\n",
       "      <td>1.000000</td>\n",
       "      <td>0.000000</td>\n",
       "      <td>1.000000</td>\n",
       "      <td>0.000000</td>\n",
       "      <td>0.000000</td>\n",
       "      <td>0.000000</td>\n",
       "      <td>0.000000</td>\n",
       "    </tr>\n",
       "    <tr>\n",
       "      <th>max</th>\n",
       "      <td>9.999816e+14</td>\n",
       "      <td>5.790484e+06</td>\n",
       "      <td>115.000000</td>\n",
       "      <td>1.000000</td>\n",
       "      <td>1.000000</td>\n",
       "      <td>1.000000</td>\n",
       "      <td>1.000000</td>\n",
       "      <td>1.000000</td>\n",
       "      <td>1.000000</td>\n",
       "      <td>1.000000</td>\n",
       "      <td>1.000000</td>\n",
       "      <td>1.000000</td>\n",
       "      <td>1.000000</td>\n",
       "      <td>1.000000</td>\n",
       "    </tr>\n",
       "  </tbody>\n",
       "</table>\n",
       "</div>"
      ],
      "text/plain": [
       "          PatientId  AppointmentID            Age    Scholarship  \\\n",
       "count  1.105270e+05   1.105270e+05  110527.000000  110527.000000   \n",
       "mean   1.474963e+14   5.675305e+06      37.088874       0.098266   \n",
       "std    2.560949e+14   7.129575e+04      23.110205       0.297675   \n",
       "min    3.921784e+04   5.030230e+06      -1.000000       0.000000   \n",
       "25%    4.172614e+12   5.640286e+06      18.000000       0.000000   \n",
       "50%    3.173184e+13   5.680573e+06      37.000000       0.000000   \n",
       "75%    9.439172e+13   5.725524e+06      55.000000       0.000000   \n",
       "max    9.999816e+14   5.790484e+06     115.000000       1.000000   \n",
       "\n",
       "        Hipertension       Diabetes     Alcoholism   SMS_received  \\\n",
       "count  110527.000000  110527.000000  110527.000000  110527.000000   \n",
       "mean        0.197246       0.071865       0.030400       0.321026   \n",
       "std         0.397921       0.258265       0.171686       0.466873   \n",
       "min         0.000000       0.000000       0.000000       0.000000   \n",
       "25%         0.000000       0.000000       0.000000       0.000000   \n",
       "50%         0.000000       0.000000       0.000000       0.000000   \n",
       "75%         0.000000       0.000000       0.000000       1.000000   \n",
       "max         1.000000       1.000000       1.000000       1.000000   \n",
       "\n",
       "             No-show     Handicap_0     Handicap_1     Handicap_2  \\\n",
       "count  110527.000000  110527.000000  110527.000000  110527.000000   \n",
       "mean        0.201933       0.979724       0.018475       0.001656   \n",
       "std         0.401444       0.140942       0.134662       0.040657   \n",
       "min         0.000000       0.000000       0.000000       0.000000   \n",
       "25%         0.000000       1.000000       0.000000       0.000000   \n",
       "50%         0.000000       1.000000       0.000000       0.000000   \n",
       "75%         0.000000       1.000000       0.000000       0.000000   \n",
       "max         1.000000       1.000000       1.000000       1.000000   \n",
       "\n",
       "          Handicap_3     Handicap_4  \n",
       "count  110527.000000  110527.000000  \n",
       "mean        0.000118       0.000027  \n",
       "std         0.010845       0.005210  \n",
       "min         0.000000       0.000000  \n",
       "25%         0.000000       0.000000  \n",
       "50%         0.000000       0.000000  \n",
       "75%         0.000000       0.000000  \n",
       "max         1.000000       1.000000  "
      ]
     },
     "execution_count": 46,
     "metadata": {},
     "output_type": "execute_result"
    }
   ],
   "source": [
    "df.describe()"
   ]
  },
  {
   "cell_type": "code",
   "execution_count": 48,
   "metadata": {
    "_cell_guid": "240e566e-7018-4ff1-b727-765453c6974e",
    "_uuid": "2bccaaf830765779c7a83bacc25619fe33fef887"
   },
   "outputs": [
    {
     "name": "stdout",
     "output_type": "stream",
     "text": [
      "Handicap_0\n",
      "0    0.181615\n",
      "1    0.202353\n",
      "Name: No-show, dtype: float64\n",
      "Handicap_1\n",
      "0    0.202360\n",
      "1    0.179236\n",
      "Name: No-show, dtype: float64\n",
      "Handicap_2\n",
      "0    0.201932\n",
      "1    0.202186\n",
      "Name: No-show, dtype: float64\n",
      "Handicap_3\n",
      "0    0.201929\n",
      "1    0.230769\n",
      "Name: No-show, dtype: float64\n",
      "Handicap_4\n",
      "0    0.201929\n",
      "1    0.333333\n",
      "Name: No-show, dtype: float64\n"
     ]
    }
   ],
   "source": [
    "# See how each type of handicap affects whether a patient will show up to an appointment \n",
    "handicaps = [\"Handicap_0\", \"Handicap_1\", \"Handicap_2\", \"Handicap_3\", \"Handicap_4\"]\n",
    "for h in handicaps:\n",
    "    print(df.groupby(h)['No-show'].mean())\n",
    "    "
   ]
  },
  {
   "cell_type": "markdown",
   "metadata": {
    "_cell_guid": "b926b600-7c90-4e16-bc5c-6c9facf3f0f8",
    "_uuid": "e97145483c57d93c00d1e6e912221a932affb985"
   },
   "source": [
    "What stands out is a patient who is handicap_4 is 13 % more likely to not show up to an appointment than a person who is not handicap_4. "
   ]
  },
  {
   "cell_type": "code",
   "execution_count": 13,
   "metadata": {
    "_cell_guid": "7b85881e-76a7-4047-a457-88906909fbcb",
    "_uuid": "9d175aad4b90c21fee0f4220beabaef9926fc615"
   },
   "outputs": [
    {
     "data": {
      "text/plain": [
       "SMS_received\n",
       "0    0.167033\n",
       "1    0.275745\n",
       "Name: No-show, dtype: float64"
      ]
     },
     "execution_count": 13,
     "metadata": {},
     "output_type": "execute_result"
    }
   ],
   "source": [
    "# Check whether the patient received a text reminder\n",
    "df.groupby('SMS_received')['No-show'].mean()"
   ]
  },
  {
   "cell_type": "markdown",
   "metadata": {
    "_cell_guid": "ccb4946a-55cc-47ee-8638-f119b0b5400a",
    "_uuid": "dde4b506aaa6cc03049b0801664191e36f211b38"
   },
   "source": [
    "Unexpecedately, patients who received a text reminder did not show up to 27% person of their appointments, where as patients who did not receive a text reminder did not show up to 17% of their appointments"
   ]
  },
  {
   "cell_type": "markdown",
   "metadata": {
    "_cell_guid": "f316d93d-f27e-4ef2-8e7e-207d9b1b6684",
    "_uuid": "6efb26a379d4c664b7997c3ce38a2f19e404a6e2"
   },
   "source": [
    "## 3. Select and create features (feature engineering)"
   ]
  },
  {
   "cell_type": "code",
   "execution_count": 49,
   "metadata": {
    "_cell_guid": "66884166-65a6-4b41-bb07-055a383c252d",
    "_uuid": "daa9e9f3a25eec78d1faef7049661e8ebc1d0665"
   },
   "outputs": [
    {
     "name": "stdout",
     "output_type": "stream",
     "text": [
      "Min Age: -1\n",
      "Max Age: 115\n"
     ]
    }
   ],
   "source": [
    "# Age\n",
    "min_age = df.Age.min()\n",
    "print(\"Min Age:\", min_age)\n",
    "max_age = df.Age.max()\n",
    "print(\"Max Age:\", max_age)\n"
   ]
  },
  {
   "cell_type": "markdown",
   "metadata": {
    "_cell_guid": "9d59f98e-ee5d-4377-8747-02de7dc35f08",
    "_uuid": "d8d3bc1750e795ea2cb3bff41d3083fc0ab7ed54"
   },
   "source": [
    "Due to the fact that minimum age is said to be -1, I will remove in the next line all records where age is < 0. I will also treat as outliers any age above a 100 due to the lack of people that live more than a 100 years.  "
   ]
  },
  {
   "cell_type": "code",
   "execution_count": 15,
   "metadata": {
    "_cell_guid": "6ddfe9e8-f98c-484d-910d-3e9da31627d2",
    "_uuid": "75a35583b515f417f29823eda2192918d5956697"
   },
   "outputs": [],
   "source": [
    "# Exlude minus age and older than 100 years\n",
    "df = df[(df.Age >= 0) & (df.Age <= 100)]"
   ]
  },
  {
   "cell_type": "code",
   "execution_count": 50,
   "metadata": {},
   "outputs": [
    {
     "data": {
      "text/plain": [
       "numpy.timedelta64(366,'D')"
      ]
     },
     "execution_count": 50,
     "metadata": {},
     "output_type": "execute_result"
    }
   ],
   "source": [
    "# Wait Time: rationale - schedule an appointment far in advance and no one reminds, tend to forget about it. \n",
    "# Or by the time my appointment day arrives, feel better and don't bother showing up. \n",
    "\n",
    "# So, create a variable called \"wait_time\" to see if the time between the date an appointment was scheduled and the date was the appointment is, has an affect on no-shows.\n",
    "np.datetime64('2009-01-01') - np.datetime64('2008-01-01')"
   ]
  },
  {
   "cell_type": "code",
   "execution_count": 52,
   "metadata": {
    "_cell_guid": "a883889d-8eec-4dcb-bff7-6b430d98083c",
    "_uuid": "6db816788b7693f38c7692d0f63c1c0e4b26ad5a"
   },
   "outputs": [],
   "source": [
    "import numpy as np\n",
    "\n",
    "# Converts the two variables to datetime variables\n",
    "df['ScheduledDay'] = pd.to_datetime(df['ScheduledDay'])\n",
    "df['AppointmentDay'] = pd.to_datetime(df['AppointmentDay'])\n",
    "\n",
    "# Create a variable called \"AwaitingTime\" by subtracting the date the patient made the appointment and the date of the appointment.\n",
    "df['AwaitingTime'] = df[\"AppointmentDay\"].sub(df[\"ScheduledDay\"], axis=0)\n",
    "\n",
    "# Convert the result \"AwaitingTime\" to number of days between appointment day and scheduled day. \n",
    "df[\"AwaitingTime\"] = (df[\"AwaitingTime\"] / np.timedelta64(1, 'D')).abs()\n"
   ]
  },
  {
   "cell_type": "code",
   "execution_count": 53,
   "metadata": {
    "_cell_guid": "4d1563e1-7164-4d56-b6b2-de81d8b14b17",
    "_uuid": "07eea9be33b37cc78eba03ddefb8823c4d0080af"
   },
   "outputs": [],
   "source": [
    "# Number of Appointments Missed by Patient:\n",
    "# Since PatientId is available, create a new variable that adds how many appointments the patient has missed in the past. \n",
    "df['Num_App_Missed'] = df.groupby('PatientId')['No-show'].apply(lambda x: x.cumsum())\n"
   ]
  },
  {
   "cell_type": "code",
   "execution_count": 54,
   "metadata": {},
   "outputs": [
    {
     "data": {
      "text/plain": [
       "count    110527.000000\n",
       "mean          0.412487\n",
       "std           0.803626\n",
       "min           0.000000\n",
       "25%           0.000000\n",
       "50%           0.000000\n",
       "75%           1.000000\n",
       "max          18.000000\n",
       "Name: Num_App_Missed, dtype: float64"
      ]
     },
     "execution_count": 54,
     "metadata": {},
     "output_type": "execute_result"
    }
   ],
   "source": [
    "df['Num_App_Missed'].describe()"
   ]
  },
  {
   "cell_type": "code",
   "execution_count": 55,
   "metadata": {
    "_cell_guid": "aa71819b-a597-432c-9cc1-86d940e993bc",
    "_uuid": "163b49a1e430f72f7c8e941ef60ccefd708cfc90",
    "scrolled": true
   },
   "outputs": [
    {
     "data": {
      "text/plain": [
       "Index(['PatientId', 'AppointmentID', 'Gender', 'ScheduledDay',\n",
       "       'AppointmentDay', 'Age', 'Neighbourhood', 'Scholarship', 'Hipertension',\n",
       "       'Diabetes', 'Alcoholism', 'Handcap', 'SMS_received', 'No-show',\n",
       "       'Handicap_0', 'Handicap_1', 'Handicap_2', 'Handicap_3', 'Handicap_4',\n",
       "       'AwaitingTime', 'Num_App_Missed'],\n",
       "      dtype='object')"
      ]
     },
     "execution_count": 55,
     "metadata": {},
     "output_type": "execute_result"
    }
   ],
   "source": [
    "# Review columns we have after the feature engineering\n",
    "df.columns"
   ]
  },
  {
   "cell_type": "code",
   "execution_count": 56,
   "metadata": {
    "_cell_guid": "fc039954-6149-42a9-aea4-858f0976aacf",
    "_uuid": "f81b5e62e22b483a7af89be13359dea561d78022"
   },
   "outputs": [],
   "source": [
    "# I will drop columns that won't be used for modeling\n",
    "# Drop both ID indicators as they are unique values. \n",
    "# Drop Age, ScheduledDay, and AppointmentDay because the engineered variables will take the place of these. \n",
    "# Drop Neighbourhood because there are more than 88 neighbourhoods which may model down.\n",
    "df.drop([\"PatientId\",'AppointmentID',\n",
    "         'ScheduledDay','Handcap','AppointmentDay','Neighbourhood'], axis=1, inplace = True)"
   ]
  },
  {
   "cell_type": "code",
   "execution_count": 57,
   "metadata": {
    "_cell_guid": "8599554e-2915-456f-9d18-f7047f98ed18",
    "_uuid": "87a117be78ddef0b78bbbe649695117f106c6bbc"
   },
   "outputs": [],
   "source": [
    "# Final features and target variable\n",
    "X = df[['Gender', 'Diabetes','Hipertension', 'Scholarship', 'SMS_received',\n",
    "        'Handicap_0','Handicap_1','Handicap_2','Handicap_3','Handicap_4', 'Num_App_Missed', 'Age', 'AwaitingTime']]\n",
    "\n",
    "y = df[\"No-show\"]"
   ]
  },
  {
   "cell_type": "code",
   "execution_count": 58,
   "metadata": {
    "_cell_guid": "de17b93e-a7c3-4638-bd1b-a36374d8f87a",
    "_uuid": "e3214e07e81b9dc1f5250faf956fee21964f7205"
   },
   "outputs": [],
   "source": [
    "# Create dummies for the remaining variables (Gender)\n",
    "X_train1 = pd.get_dummies(X)"
   ]
  },
  {
   "cell_type": "markdown",
   "metadata": {
    "_cell_guid": "69dc2163-f1d9-4806-9867-ee39c8b71d21",
    "_uuid": "8a26b99bff9209103e8fc7c41001f08c4304abcc"
   },
   "source": [
    "\n"
   ]
  },
  {
   "cell_type": "code",
   "execution_count": 59,
   "metadata": {
    "_cell_guid": "221493dc-3b5f-4f77-be31-d6ae3bcf7edd",
    "_uuid": "5571c5f56b9a35759496f357123997724aeab0d5"
   },
   "outputs": [
    {
     "name": "stdout",
     "output_type": "stream",
     "text": [
      "[[-0.278  2.017 -0.33  -0.688  0.144 -0.137 -0.041 -0.011 -0.005 -0.513\n",
      "   1.078 -0.615  0.734 -0.734]\n",
      " [-0.278 -0.496 -0.33  -0.688  0.144 -0.137 -0.041 -0.011 -0.005 -0.513\n",
      "   0.818 -0.622 -1.363  1.363]\n",
      " [-0.278 -0.496 -0.33  -0.688  0.144 -0.137 -0.041 -0.011 -0.005 -0.513\n",
      "   1.078 -0.621  0.734 -0.734]\n",
      " [-0.278 -0.496 -0.33  -0.688  0.144 -0.137 -0.041 -0.011 -0.005 -0.513\n",
      "  -1.259 -0.618  0.734 -0.734]\n",
      " [ 3.594  2.017 -0.33  -0.688  0.144 -0.137 -0.041 -0.011 -0.005 -0.513\n",
      "   0.818 -0.622  0.734 -0.734]]\n"
     ]
    },
    {
     "name": "stderr",
     "output_type": "stream",
     "text": [
      "C:\\Users\\quynhle\\AppData\\Local\\Continuum\\anaconda3\\envs\\Test\\lib\\site-packages\\sklearn\\preprocessing\\data.py:625: DataConversionWarning: Data with input dtype uint8, int64, float64 were all converted to float64 by StandardScaler.\n",
      "  return self.partial_fit(X, y)\n",
      "C:\\Users\\quynhle\\AppData\\Roaming\\Python\\Python36\\site-packages\\ipykernel_launcher.py:9: DataConversionWarning: Data with input dtype uint8, int64, float64 were all converted to float64 by StandardScaler.\n",
      "  if __name__ == '__main__':\n"
     ]
    }
   ],
   "source": [
    "# Normalize the featured data - i.e., scale the data so that all values are between 0 and 1. \n",
    "\n",
    "# - Standardization is a useful technique to transform attributes with a Gaussian distribution and differing means and standard deviations to a standard Gaussian distribution with a mean of 0 and a standard deviation of 1.\n",
    "\n",
    "# - It is most suitable for techniques that assume a Gaussian distribution in the input variables and work better with rescaled data, such as linear regression, logistic regression and linear discriminate analysis.\n",
    "\n",
    "from sklearn.preprocessing import StandardScaler\n",
    "scaler = StandardScaler().fit(X_train1)\n",
    "rescaledX2 = scaler.transform(X_train1)\n",
    "\n",
    "# summarize transformed data\n",
    "np.set_printoptions(precision=3)\n",
    "print(rescaledX2[0:5,:])"
   ]
  },
  {
   "cell_type": "markdown",
   "metadata": {
    "_cell_guid": "92cd5636-9188-4673-8b28-5e0075a2b2e1",
    "_uuid": "7bc52fb7f4258925bf93e013dc0a082a9f7dc9d6"
   },
   "source": [
    "## 4. Build and evaluate the model - Logistic Regression\n"
   ]
  },
  {
   "cell_type": "code",
   "execution_count": 60,
   "metadata": {
    "_cell_guid": "c8883211-241f-428c-be10-40b3aec83e04",
    "_uuid": "ab10ef26be3a83f1f2c7e667d5bcc69e2c41c569"
   },
   "outputs": [
    {
     "name": "stderr",
     "output_type": "stream",
     "text": [
      "C:\\Users\\quynhle\\AppData\\Local\\Continuum\\anaconda3\\envs\\Test\\lib\\site-packages\\sklearn\\linear_model\\logistic.py:433: FutureWarning: Default solver will be changed to 'lbfgs' in 0.22. Specify a solver to silence this warning.\n",
      "  FutureWarning)\n"
     ]
    },
    {
     "name": "stdout",
     "output_type": "stream",
     "text": [
      "Results:\n",
      "Accuracy 0.8650839606253619\n",
      "Specificity: 0.9540422070586109\n",
      "False Positive Rate: 0.04595779294138913\n",
      "Precision: 0.7330007876082961\n",
      "Recall: 0.5073596220243504\n"
     ]
    }
   ],
   "source": [
    "# 'sklearn.cross_validation' is nolonger available, uses 'sklearn.model_selection' instead\n",
    "from sklearn import metrics\n",
    "from sklearn.linear_model import LogisticRegression\n",
    "from sklearn.model_selection import train_test_split\n",
    "\n",
    "# Create Training and Test Dataset with 75% Training and 25% Test\n",
    "X_train, X_test, y_train, y_test = train_test_split(rescaledX2, y, test_size=0.25)\n",
    "\n",
    "# Run Logistic Regression\n",
    "logreg = LogisticRegression()\n",
    "logreg.fit(X_train, y_train)\n",
    "y_pred = logreg.predict(X_test)\n",
    "\n",
    "# Analyze results\n",
    "print(\"Results:\")\n",
    "print(\"Accuracy\", metrics.accuracy_score(y_test,y_pred))\n",
    "\n",
    "# save confusion matrix and slice into four pieces\n",
    "confusion = metrics.confusion_matrix(y_test, y_pred)\n",
    "TP = confusion[1, 1]\n",
    "TN = confusion[0, 0]\n",
    "FP = confusion[0, 1]\n",
    "FN = confusion[1, 0]\n",
    "\n",
    "#Specificity: When the actual value is negative, how often is the prediction correct?\n",
    "print(\"Specificity:\",TN / float(TN + FP))\n",
    "\n",
    "#False Positive Rate: When the actual value is negative, how often is the prediction incorrect?\n",
    "print(\"False Positive Rate:\",FP / float(TN + FP))\n",
    "\n",
    "#Precision: When a positive value is predicted, how often is the prediction correct?\n",
    "print(\"Precision:\",metrics.precision_score(y_test, y_pred))\n",
    "\n",
    "#Sensitivity:\n",
    "print(\"Recall:\",metrics.recall_score(y_test, y_pred))"
   ]
  },
  {
   "cell_type": "markdown",
   "metadata": {
    "_cell_guid": "4eaac821-8285-4699-9464-3f412983e11e",
    "_uuid": "78c4e86930ba85664d4be87836b83d8610fb61da"
   },
   "source": [
    "### Class Distribution"
   ]
  },
  {
   "cell_type": "code",
   "execution_count": 61,
   "metadata": {
    "_cell_guid": "0d4f957b-0073-478e-9505-ec832360f2f8",
    "_uuid": "5a495ef1dfd6818224406866ff5cef78fe0055c0",
    "scrolled": true
   },
   "outputs": [
    {
     "name": "stdout",
     "output_type": "stream",
     "text": [
      "Class Distribution: 0    22129\n",
      "1     5503\n",
      "Name: No-show, dtype: int64\n",
      "Percentage of Ones: 0.19915315576143602\n",
      "Percentage of Zeros: 0.800846844238564\n",
      "Null Accuracy: 0.800846844238564\n"
     ]
    }
   ],
   "source": [
    "# examine the class distribution of the testing set (using a Pandas Series method)\n",
    "print(\"Class Distribution:\", y_test.value_counts())\n",
    "# calculate the percentage of ones\n",
    "print(\"Percentage of Ones:\", y_test.mean())\n",
    "\n",
    "# calculate the percentage of zeros\n",
    "print(\"Percentage of Zeros:\", 1 - y_test.mean())\n",
    "\n",
    "# calculate null accuracy (for binary classification problems coded as 0/1)\n",
    "print(\"Null Accuracy:\",max(y_test.mean(), 1 - y_test.mean()))"
   ]
  },
  {
   "cell_type": "markdown",
   "metadata": {},
   "source": [
    "The null accuracy is ~ 80%, which means that if there is no model, and we 'naivly' predict that everyone will show up, we will be right 80 % of the time. That means tmhe model needs to do better than this base accuracy in order to be useful."
   ]
  },
  {
   "cell_type": "code",
   "execution_count": 62,
   "metadata": {
    "_cell_guid": "ff16b47c-1326-4873-8c1e-ad1a2145a374",
    "_uuid": "9e7d16c02cbfab5010304478e80f38ba568ac002"
   },
   "outputs": [
    {
     "name": "stdout",
     "output_type": "stream",
     "text": [
      "Accuracy on the training subset: 0.926\n",
      "Accuracy on the test subset: 0.917\n",
      "Specificity: 0.9318521200054302\n",
      "False Positive Rate: 0.0681478799945699\n",
      "Precision: 0.75904\n",
      "Recall: 0.857401048255919\n"
     ]
    }
   ],
   "source": [
    "#  'sklearn.cross_validation' is nolonger available, uses 'sklearn.model_selection' instead\n",
    "from sklearn.tree import DecisionTreeClassifier\n",
    "from sklearn.model_selection import train_test_split\n",
    "\n",
    "X_train2, X_test2, y_train2, y_test2 = train_test_split(rescaledX2, y, test_size=0.25, random_state = 42)\n",
    "\n",
    "tree = DecisionTreeClassifier(max_depth=10, random_state=0)\n",
    "tree.fit(X_train2, y_train2)\n",
    "y_pred2 = tree.predict(X_test2)\n",
    "print('Accuracy on the training subset: {:.3f}'.format(tree.score(X_train2, y_train2)))\n",
    "print('Accuracy on the test subset: {:.3f}'.format(tree.score(X_test2, y_test2)))\n",
    "\n",
    "\n",
    "# save confusion matrix and slice into four pieces\n",
    "confusion = metrics.confusion_matrix(y_test2, y_pred2)\n",
    "TP = confusion[1, 1]\n",
    "TN = confusion[0, 0]\n",
    "FP = confusion[0, 1]\n",
    "FN = confusion[1, 0]\n",
    "\n",
    "#Specificity: When the actual value is negative, how often is the prediction correct?\n",
    "print(\"Specificity:\",TN / float(TN + FP))\n",
    "\n",
    "#False Positive Rate: When the actual value is negative, how often is the prediction incorrect?\n",
    "print(\"False Positive Rate:\",FP / float(TN + FP))\n",
    "\n",
    "#Precision: When a positive value is predicted, how often is the prediction correct?\n",
    "print(\"Precision:\",metrics.precision_score(y_test2, y_pred2))\n",
    "\n",
    "#Sensitivity:\n",
    "print(\"Recall:\",metrics.recall_score(y_test2, y_pred2))"
   ]
  },
  {
   "cell_type": "markdown",
   "metadata": {
    "_cell_guid": "ee3af4ec-e0ab-4754-805e-aa2248234d14",
    "_uuid": "e9c7caa1814ceca3ebe49cf4cb7155cad0a2664b"
   },
   "source": [
    "The Logistic Regression model is 89.88 % accuracate on the test set, which is an improvement of 9.88% better than a naive model. \n",
    "\n",
    "Recall: Out of the ones that did not show up, how many did we predict correctly? 50 %\n",
    "\n",
    "Precision: Out of the ones our model said will not show up, how many didn't ? 72 %\n",
    "\n"
   ]
  },
  {
   "cell_type": "markdown",
   "metadata": {
    "_cell_guid": "1aeee9b2-4c53-4d23-b32d-c8a6fa665a9b",
    "_uuid": "2ed137706751d355b7be058db9ed229e94bd8ed3"
   },
   "source": [
    "The model is 92 % accuracate on the test set, which is an improvement of 12% better than a naive model.\n",
    "\n",
    "Recall: Out of the ones that did not show up, how many did we predict correctly? 88 %\n",
    "\n",
    "Precision: Out of the ones our model said will not show up, how many didn't ? 75 %"
   ]
  },
  {
   "cell_type": "markdown",
   "metadata": {
    "_cell_guid": "98469c59-214d-4614-9541-df8c0c60a5ee",
    "_uuid": "531aaa6543c53c70108a78908546c7e60d89bd5f",
    "collapsed": true
   },
   "source": [
    "To determine which metric to use, we need to do a cost-benefit analysis. \n",
    "Implications:\n",
    "True Positive: Model says patient wil not show up, and they don't\n",
    "False Positive: Model says patient will not show up, but they do\n",
    "True Negative: Model says patient will show up, and they do\n",
    "False Negative: Model says a patient will show up, but they don't\n",
    "\n",
    "To determine which metric to use, we need to do a cost-benefit analysis. \n",
    "If we say a patient will not show up, but they do, the office would be booked and patients will have to wait and they will get upset. If we say a patient will show up, but they don't then the doctor's office will lose money because another patient could have been served at that time. \n",
    "\n",
    "Based on domain knowledge and past experiences, the office would rather overbook than have empty time in their schedule. Therefore, recall is the metric they care about, and based on recall, the decision tree clasifier performed the best at 88%. "
   ]
  },
  {
   "cell_type": "markdown",
   "metadata": {
    "_cell_guid": "46685b52-5884-439b-8a66-8a9cda8ea6a3",
    "_uuid": "4389d0d43b8eebc7bdb984b0e6b59e4bcc1e7a64"
   },
   "source": [
    "### Most important features"
   ]
  },
  {
   "cell_type": "code",
   "execution_count": 63,
   "metadata": {
    "_cell_guid": "442f5c44-b3b5-43eb-9b40-907717d5deb8",
    "_uuid": "4c8295836dbc490c2b2ae37b46553b9dafac3b57"
   },
   "outputs": [
    {
     "data": {
      "image/png": "[encoded data removed]",
      "text/plain": [
       "<Figure size 432x288 with 1 Axes>"
      ]
     },
     "metadata": {
      "needs_background": "light"
     },
     "output_type": "display_data"
    }
   ],
   "source": [
    "%matplotlib inline\n",
    "import matplotlib.pyplot as plt\n",
    "n_features = X_train1.shape[1]\n",
    "plt.barh(range(n_features), tree.feature_importances_, )\n",
    "plt.yticks(np.arange(n_features), X_train1)\n",
    "plt.xlabel('Feature Importance')\n",
    "plt.ylabel('Feature')\n",
    "plt.show()"
   ]
  },
  {
   "cell_type": "markdown",
   "metadata": {
    "_cell_guid": "bcc793b8-e24e-48cb-bbe1-3c12fe507970",
    "_uuid": "61a09b2478ad94820d333acd64756694db5f23ca",
    "collapsed": true
   },
   "source": [
    "Most important features are:\n",
    "    - Age of the patient\n",
    "    - WaitingTime (how long in advanced was appointment scheduled)\n",
    "    - Number of appointments missed in the past\n",
    "    \n"
   ]
  },
  {
   "cell_type": "markdown",
   "metadata": {
    "_cell_guid": "e8430218-3c6d-4b56-99c1-da757efc7e82",
    "_uuid": "1719184d3c79b6f554f93d8279444bb7751ebce3"
   },
   "source": [
    "### Explore Important Features "
   ]
  },
  {
   "cell_type": "code",
   "execution_count": null,
   "metadata": {
    "_cell_guid": "5c17dce5-b425-4a05-8881-901f0551c2fd",
    "_uuid": "9e38092fab91c0a747f6870060641b33b427823e"
   },
   "outputs": [],
   "source": [
    "# Age\n",
    "bins = [0, 20, 40, 60, 100]\n",
    "age_groups = df.groupby(pd.cut(df.Age, bins))\n",
    "age_groups[\"No-show\"].mean()\n"
   ]
  },
  {
   "cell_type": "markdown",
   "metadata": {
    "_cell_guid": "4debfdde-d000-46ae-a43d-c5350cefcdab",
    "_uuid": "bd60cc822819afdb1cd66daa1730a3bb5314dd86"
   },
   "source": [
    "- Patients over 40 are more likely to show up than patients under 40, and \n",
    "- patients over the age of 60 are 7% more likely to shows up than patients under 40."
   ]
  },
  {
   "cell_type": "code",
   "execution_count": 64,
   "metadata": {
    "_cell_guid": "8080f391-db30-4889-897d-fe75a7e141ac",
    "_uuid": "f335371a1dec0e3640329998908f57e985c75c1a"
   },
   "outputs": [
    {
     "data": {
      "text/plain": [
       "AwaitingTime\n",
       "(0, 1]      0.066361\n",
       "(1, 7]      0.247025\n",
       "(7, 180]    0.320561\n",
       "Name: No-show, dtype: float64"
      ]
     },
     "execution_count": 64,
     "metadata": {},
     "output_type": "execute_result"
    }
   ],
   "source": [
    "# Awaiting Time\n",
    "bins = [0,1,7, 180]\n",
    "wait_time = df.groupby(pd.cut(df.AwaitingTime, bins))\n",
    "wait_time[\"No-show\"].mean()"
   ]
  },
  {
   "cell_type": "markdown",
   "metadata": {},
   "source": [
    "## Conclude"
   ]
  },
  {
   "cell_type": "markdown",
   "metadata": {
    "_cell_guid": "0076dbb9-d0d4-4ba4-baab-b067143a8d9e",
    "_uuid": "2773c44a265f60c8cfe5c21f9a9d76cafc2ad6b0"
   },
   "source": [
    "- People who scheduled 1 day or less in advance of their appointment, did not show up only 6.6 % of the time. \n",
    "- Those that scheduled more than 1 day but less than 1 week in advance, did not show up 25 % of the time, and \n",
    "- Those who scheduled more than 2 weeks in advance did not show up more than 30% of the time.\n",
    "- Discussion:?"
   ]
  }
 ],
 "metadata": {
  "kernelspec": {
   "display_name": "Python 3",
   "language": "python",
   "name": "python3"
  },
  "language_info": {
   "codemirror_mode": {
    "name": "ipython",
    "version": 3
   },
   "file_extension": ".py",
   "mimetype": "text/x-python",
   "name": "python",
   "nbconvert_exporter": "python",
   "pygments_lexer": "ipython3",
   "version": "3.6.8"
  }
 },
 "nbformat": 4,
 "nbformat_minor": 1
}
